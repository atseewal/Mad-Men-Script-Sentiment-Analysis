{
 "cells": [
  {
   "cell_type": "markdown",
   "id": "1db0d859",
   "metadata": {},
   "source": [
    "# Mad Men Script Sentiment Analysis"
   ]
  },
  {
   "cell_type": "code",
   "execution_count": 96,
   "id": "18261ed3",
   "metadata": {},
   "outputs": [],
   "source": [
    "# Scrape episode ratings\n",
    "\n",
    "import requests\n",
    "from datetime import date\n",
    "from bs4 import BeautifulSoup\n",
    "\n",
    "url = 'https://www.imdb.com/title/tt0804503/episodes?season=1'\n",
    "response = requests.get(url)\n",
    "soup = BeautifulSoup(response.text, 'html.parser')"
   ]
  },
  {
   "cell_type": "code",
   "execution_count": 80,
   "id": "f7e04848",
   "metadata": {},
   "outputs": [],
   "source": [
    "odd_titles = soup.select('#styleguide-v2.fixed div#wrapper div#root.redesign div#pagecontent.pagecontent div#content-2-wide.redesign div#main div.article.listo.list div#episodes_content.header div.clear div.list.detail.eplist div.list_item.odd div.info strong a')\n",
    "even_titles = soup.select('#styleguide-v2.fixed div#wrapper div#root.redesign div#pagecontent.pagecontent div#content-2-wide.redesign div#main div.article.listo.list div#episodes_content.header div.clear div.list.detail.eplist div.list_item.even div.info strong a')\n",
    "\n",
    "odd_ratings = soup.select('#styleguide-v2.fixed div#wrapper div#root.redesign div#pagecontent.pagecontent div#content-2-wide.redesign div#main div.article.listo.list div#episodes_content.header div.clear div.list.detail.eplist div.list_item.odd div.info div.ipl-rating-widget div.ipl-rating-star.small span.ipl-rating-star__rating')\n",
    "even_ratings = soup.select('#styleguide-v2.fixed div#wrapper div#root.redesign div#pagecontent.pagecontent div#content-2-wide.redesign div#main div.article.listo.list div#episodes_content.header div.clear div.list.detail.eplist div.list_item.even div.info div.ipl-rating-widget div.ipl-rating-star.small span.ipl-rating-star__rating')\n",
    "\n",
    "odd_airdate = soup.select('#styleguide-v2.fixed div#wrapper div#root.redesign div#pagecontent.pagecontent div#content-2-wide.redesign div#main div.article.listo.list div#episodes_content.header div.clear div.list.detail.eplist div.list_item.odd div.info div.airdate')\n",
    "even_airdate = soup.select('#styleguide-v2.fixed div#wrapper div#root.redesign div#pagecontent.pagecontent div#content-2-wide.redesign div#main div.article.listo.list div#episodes_content.header div.clear div.list.detail.eplist div.list_item.even div.info div.airdate')\n",
    "\n",
    "odd_descriptions = soup.select('#styleguide-v2.fixed div#wrapper div#root.redesign div#pagecontent.pagecontent div#content-2-wide.redesign div#main div.article.listo.list div#episodes_content.header div.clear div.list.detail.eplist div.list_item.odd div.info div.item_description')\n",
    "even_descriptions = soup.select('#styleguide-v2.fixed div#wrapper div#root.redesign div#pagecontent.pagecontent div#content-2-wide.redesign div#main div.article.listo.list div#episodes_content.header div.clear div.list.detail.eplist div.list_item.even div.info div.item_description')\n",
    "\n",
    "odd_episode_numbers = soup.select('#styleguide-v2.fixed div#wrapper div#root.redesign div#pagecontent.pagecontent div#content-2-wide.redesign div#main div.article.listo.list div#episodes_content.header div.clear div.list.detail.eplist div.list_item.odd div.image a div.hover-over-image.zero-z-index div')\n",
    "even_episode_numbers = soup.select('#styleguide-v2.fixed div#wrapper div#root.redesign div#pagecontent.pagecontent div#content-2-wide.redesign div#main div.article.listo.list div#episodes_content.header div.clear div.list.detail.eplist div.list_item.odd div.image a div.hover-over-image.zero-z-index div')"
   ]
  },
  {
   "cell_type": "code",
   "execution_count": 81,
   "id": "5b057634",
   "metadata": {},
   "outputs": [],
   "source": [
    "odd_titles = [title.text for title in odd_titles]\n",
    "even_titles = [title.text for title in even_titles]\n",
    "\n",
    "odd_ratings = [rating.text for rating in odd_ratings]\n",
    "even_ratings = [rating.text for rating in even_ratings]\n",
    "\n",
    "odd_airdate = [airdate.text for airdate in odd_airdate]\n",
    "even_airdate = [airdate.text for airdate in even_airdate]\n",
    "\n",
    "odd_descriptions = [description.text for description in odd_descriptions]\n",
    "even_descriptions = [description.text for description in even_descriptions]\n",
    "\n",
    "odd_episode_numbers = [episode_number.text for episode_number in odd_episode_numbers]\n",
    "even_episode_numbers = [episode_number.text for episode_number in even_episode_numbers]"
   ]
  },
  {
   "cell_type": "code",
   "execution_count": 94,
   "id": "abdebb54",
   "metadata": {},
   "outputs": [],
   "source": [
    "episodes = list(zip(odd_titles, odd_ratings, odd_airdate, odd_descriptions, odd_episode_numbers))\n",
    "episodes.extend(list(zip(even_titles, even_ratings, even_airdate, even_descriptions, even_episode_numbers)))"
   ]
  },
  {
   "cell_type": "code",
   "execution_count": 98,
   "id": "54da5b54",
   "metadata": {},
   "outputs": [
    {
     "data": {
      "text/plain": [
       "('Long Weekend',\n",
       " '8.2',\n",
       " '\\n            27 Sep. 2007\\n    ',\n",
       " \"\\nIt's Labor Day weekend and most of the men are sending their wives away for a few days. Don Draper's wife Betty is dreading the thought, as her father and his new girlfriend, whom she detests, will be staying with them. With the election approaching, the team at Sterling Cooper is gloomy since the Nixon campaign has not been following their advice. Roger Sterling was hoping to spend Friday night with Joan Holloway but having just seen the movie The Apartment (1960), she is feeling a bit used. She plans a night on the town with her old college friend who has some surprising information ...    \",\n",
       " 'S1, Ep9')"
      ]
     },
     "execution_count": 98,
     "metadata": {},
     "output_type": "execute_result"
    }
   ],
   "source": [
    "episodes[11]"
   ]
  },
  {
   "cell_type": "markdown",
   "id": "36f77bea",
   "metadata": {},
   "source": [
    "## Function `get_imdb_episode_data()`\n",
    "\n",
    "**Inputs**\n",
    "\n",
    "* Title ID\n",
    "  > tt0804503\n",
    "* Season Number\n",
    "  > 1\n",
    "\n",
    "**Output**\n",
    "\n",
    "* Dataframe\n",
    "\n",
    "  > | Season/Episode Number | Episode Name | Airdate | Rating | Description |\n",
    "    |------|-|-|-|-|\n",
    "    | S01E11 | Nixon vs. Kennedy | October 23rd, 2007 | 9.0 | Election night arrives and the staff of Sterling Cooper has a party while watching the returns...|\n",
    "    | ... | ... | ... | ... | ... |\n",
    "    | S01E9 | Long Weekend | September 27th, 2007 | 8.2 | It's Labor Day weekend and most of the men are sending their wives away for a few days... |"
   ]
  },
  {
   "cell_type": "code",
   "execution_count": null,
   "id": "d92ffe29",
   "metadata": {},
   "outputs": [],
   "source": [
    "mad_men_list = []\n",
    "\n",
    "for i in range(7):\n",
    "    mad_men_list.append(get_imdb_episode_data('tt0804503'), i)\n",
    "    time.sleep(10)\n",
    "\n",
    "mad_men_data = pd.concat(mad_men_list)"
   ]
  }
 ],
 "metadata": {
  "kernelspec": {
   "display_name": "Python 3 (ipykernel)",
   "language": "python",
   "name": "python3"
  },
  "language_info": {
   "codemirror_mode": {
    "name": "ipython",
    "version": 3
   },
   "file_extension": ".py",
   "mimetype": "text/x-python",
   "name": "python",
   "nbconvert_exporter": "python",
   "pygments_lexer": "ipython3",
   "version": "3.9.12"
  }
 },
 "nbformat": 4,
 "nbformat_minor": 5
}
